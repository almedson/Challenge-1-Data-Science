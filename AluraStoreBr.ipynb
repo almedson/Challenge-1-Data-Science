{
  "cells": [
    {
      "cell_type": "markdown",
      "metadata": {
        "id": "RhEdWd9YUR6H"
      },
      "source": [
        "### Importação dos dados\n",
        "\n"
      ]
    },
    {
      "cell_type": "code",
      "execution_count": 26,
      "metadata": {
        "colab": {
          "base_uri": "https://localhost:8080/",
          "height": 206
        },
        "id": "T3EvaeQ_INIL",
        "outputId": "7194bc65-372c-47e6-cb47-d4bfc9952c91"
      },
      "outputs": [
        {
          "data": {
            "text/html": [
              "<div>\n",
              "<style scoped>\n",
              "    .dataframe tbody tr th:only-of-type {\n",
              "        vertical-align: middle;\n",
              "    }\n",
              "\n",
              "    .dataframe tbody tr th {\n",
              "        vertical-align: top;\n",
              "    }\n",
              "\n",
              "    .dataframe thead th {\n",
              "        text-align: right;\n",
              "    }\n",
              "</style>\n",
              "<table border=\"1\" class=\"dataframe\">\n",
              "  <thead>\n",
              "    <tr style=\"text-align: right;\">\n",
              "      <th></th>\n",
              "      <th>Produto</th>\n",
              "      <th>Categoria do Produto</th>\n",
              "      <th>Preço</th>\n",
              "      <th>Frete</th>\n",
              "      <th>Data da Compra</th>\n",
              "      <th>Vendedor</th>\n",
              "      <th>Local da compra</th>\n",
              "      <th>Avaliação da compra</th>\n",
              "      <th>Tipo de pagamento</th>\n",
              "      <th>Quantidade de parcelas</th>\n",
              "      <th>lat</th>\n",
              "      <th>lon</th>\n",
              "    </tr>\n",
              "  </thead>\n",
              "  <tbody>\n",
              "    <tr>\n",
              "      <th>0</th>\n",
              "      <td>Assistente virtual</td>\n",
              "      <td>eletronicos</td>\n",
              "      <td>219.08</td>\n",
              "      <td>9.249790</td>\n",
              "      <td>16/01/2021</td>\n",
              "      <td>Pedro Gomes</td>\n",
              "      <td>SP</td>\n",
              "      <td>4</td>\n",
              "      <td>cartao_credito</td>\n",
              "      <td>8</td>\n",
              "      <td>-22.19</td>\n",
              "      <td>-48.79</td>\n",
              "    </tr>\n",
              "    <tr>\n",
              "      <th>1</th>\n",
              "      <td>Mesa de jantar</td>\n",
              "      <td>moveis</td>\n",
              "      <td>256.35</td>\n",
              "      <td>11.234305</td>\n",
              "      <td>18/05/2022</td>\n",
              "      <td>Beatriz Moraes</td>\n",
              "      <td>RJ</td>\n",
              "      <td>1</td>\n",
              "      <td>cartao_credito</td>\n",
              "      <td>4</td>\n",
              "      <td>-22.25</td>\n",
              "      <td>-42.66</td>\n",
              "    </tr>\n",
              "    <tr>\n",
              "      <th>2</th>\n",
              "      <td>Jogo de tabuleiro</td>\n",
              "      <td>brinquedos</td>\n",
              "      <td>279.51</td>\n",
              "      <td>21.262681</td>\n",
              "      <td>15/03/2021</td>\n",
              "      <td>João Souza</td>\n",
              "      <td>DF</td>\n",
              "      <td>1</td>\n",
              "      <td>cartao_credito</td>\n",
              "      <td>1</td>\n",
              "      <td>-15.83</td>\n",
              "      <td>-47.86</td>\n",
              "    </tr>\n",
              "    <tr>\n",
              "      <th>3</th>\n",
              "      <td>Micro-ondas</td>\n",
              "      <td>eletrodomesticos</td>\n",
              "      <td>1009.99</td>\n",
              "      <td>54.667344</td>\n",
              "      <td>03/05/2022</td>\n",
              "      <td>João Souza</td>\n",
              "      <td>RS</td>\n",
              "      <td>4</td>\n",
              "      <td>boleto</td>\n",
              "      <td>1</td>\n",
              "      <td>-30.17</td>\n",
              "      <td>-53.50</td>\n",
              "    </tr>\n",
              "    <tr>\n",
              "      <th>4</th>\n",
              "      <td>Cadeira de escritório</td>\n",
              "      <td>moveis</td>\n",
              "      <td>446.99</td>\n",
              "      <td>26.964689</td>\n",
              "      <td>07/11/2020</td>\n",
              "      <td>Larissa Alves</td>\n",
              "      <td>MG</td>\n",
              "      <td>5</td>\n",
              "      <td>boleto</td>\n",
              "      <td>1</td>\n",
              "      <td>-18.10</td>\n",
              "      <td>-44.38</td>\n",
              "    </tr>\n",
              "  </tbody>\n",
              "</table>\n",
              "</div>"
            ],
            "text/plain": [
              "                 Produto Categoria do Produto    Preço      Frete  \\\n",
              "0     Assistente virtual          eletronicos   219.08   9.249790   \n",
              "1         Mesa de jantar               moveis   256.35  11.234305   \n",
              "2      Jogo de tabuleiro           brinquedos   279.51  21.262681   \n",
              "3            Micro-ondas     eletrodomesticos  1009.99  54.667344   \n",
              "4  Cadeira de escritório               moveis   446.99  26.964689   \n",
              "\n",
              "  Data da Compra        Vendedor Local da compra  Avaliação da compra  \\\n",
              "0     16/01/2021     Pedro Gomes              SP                    4   \n",
              "1     18/05/2022  Beatriz Moraes              RJ                    1   \n",
              "2     15/03/2021      João Souza              DF                    1   \n",
              "3     03/05/2022      João Souza              RS                    4   \n",
              "4     07/11/2020   Larissa Alves              MG                    5   \n",
              "\n",
              "  Tipo de pagamento  Quantidade de parcelas    lat    lon  \n",
              "0    cartao_credito                       8 -22.19 -48.79  \n",
              "1    cartao_credito                       4 -22.25 -42.66  \n",
              "2    cartao_credito                       1 -15.83 -47.86  \n",
              "3            boleto                       1 -30.17 -53.50  \n",
              "4            boleto                       1 -18.10 -44.38  "
            ]
          },
          "execution_count": 26,
          "metadata": {},
          "output_type": "execute_result"
        }
      ],
      "source": [
        "import pandas as pd\n",
        "\n",
        "url = \"https://raw.githubusercontent.com/alura-es-cursos/challenge1-data-science/refs/heads/main/base-de-dados-challenge-1/loja_1.csv\"\n",
        "url2 = \"https://raw.githubusercontent.com/alura-es-cursos/challenge1-data-science/refs/heads/main/base-de-dados-challenge-1/loja_2.csv\"\n",
        "url3 = \"https://raw.githubusercontent.com/alura-es-cursos/challenge1-data-science/refs/heads/main/base-de-dados-challenge-1/loja_3.csv\"\n",
        "url4 = \"https://raw.githubusercontent.com/alura-es-cursos/challenge1-data-science/refs/heads/main/base-de-dados-challenge-1/loja_4.csv\"\n",
        "\n",
        "loja1 = pd.read_csv(url)\n",
        "loja2 = pd.read_csv(url2)\n",
        "loja3 = pd.read_csv(url3)\n",
        "loja4 = pd.read_csv(url4)\n",
        "\n",
        "loja1.head()"
      ]
    },
    {
      "cell_type": "markdown",
      "metadata": {
        "id": "X62IW3KFUIYm"
      },
      "source": [
        "#1. Análise do faturamento\n"
      ]
    },
    {
      "cell_type": "code",
      "execution_count": 27,
      "metadata": {
        "id": "xykobSftV64I"
      },
      "outputs": [
        {
          "name": "stdout",
          "output_type": "stream",
          "text": [
            "O faturamento da loja1 é: 1534509.12\n",
            "O faturamento da loja2 é: 1488459.06\n",
            "O faturamento da loja3 é: 1464025.03\n",
            "O faturamento da loja4 é: 1384497.58\n"
          ]
        }
      ],
      "source": [
        "faturamento_loja1 = loja1['Preço'].sum()\n",
        "faturamento_loja2 = loja2['Preço'].sum()\n",
        "faturamento_loja3 = loja3['Preço'].sum()\n",
        "faturamento_loja4 = loja4['Preço'].sum()\n",
        "\n",
        "print(f\"O faturamento da loja1 é: {faturamento_loja1}\")\n",
        "print(f\"O faturamento da loja2 é: {faturamento_loja2}\")\n",
        "print(f\"O faturamento da loja3 é: {faturamento_loja3}\")\n",
        "print(f\"O faturamento da loja4 é: {faturamento_loja4}\")"
      ]
    },
    {
      "cell_type": "code",
      "execution_count": null,
      "metadata": {
        "id": "KDyr8E71V3m-"
      },
      "outputs": [],
      "source": []
    },
    {
      "cell_type": "markdown",
      "metadata": {
        "id": "2V_vcAPzWZmR"
      },
      "source": [
        "# 2. Vendas por Categoria\n"
      ]
    },
    {
      "cell_type": "code",
      "execution_count": 35,
      "metadata": {
        "id": "A34YupIuYhfF"
      },
      "outputs": [
        {
          "name": "stdout",
          "output_type": "stream",
          "text": [
            "Quantidade de produtos vendidos por categoria na Loja 1:\n",
            "Categoria do Produto\n",
            "brinquedos               324\n",
            "eletrodomesticos         312\n",
            "eletronicos              448\n",
            "esporte e lazer          284\n",
            "instrumentos musicais    182\n",
            "livros                   173\n",
            "moveis                   465\n",
            "utilidades domesticas    171\n",
            "Name: Produto, dtype: int64\n",
            "A categoria mais popular na Loja 1 é: moveis\n",
            "\n",
            "\n",
            "Quantidade de produtos vendidos por categoria na Loja 2:\n",
            "Categoria do Produto\n",
            "brinquedos               313\n",
            "eletrodomesticos         305\n",
            "eletronicos              422\n",
            "esporte e lazer          275\n",
            "instrumentos musicais    224\n",
            "livros                   197\n",
            "moveis                   442\n",
            "utilidades domesticas    181\n",
            "Name: Produto, dtype: int64\n",
            "A categoria mais popular na Loja 2 é: moveis\n"
          ]
        }
      ],
      "source": [
        "# Análise das vendas dos produtos por categorias da loja1\n",
        "produtos_por_categoria_loja1 = loja1.groupby('Categoria do Produto')['Produto'].count()\n",
        "\n",
        "print(\"Quantidade de produtos vendidos por categoria na Loja 1:\")\n",
        "print(produtos_por_categoria_loja1)\n",
        "\n",
        "# Para exibir a categoria mais popular\n",
        "categoria_popular_loja1 = produtos_por_categoria_loja1.idxmax()\n",
        "print(f\"A categoria mais popular na Loja 1 é: {categoria_popular_loja1}\")\n",
        "print(\"\\n\")\n",
        "\n",
        "# Análise das vendas dos produtos por categorias da loja2\n",
        "produtos_por_categoria_loja2 = loja2.groupby('Categoria do Produto')['Produto'].count()\n",
        "\n",
        "print(\"Quantidade de produtos vendidos por categoria na Loja 2:\")\n",
        "print(produtos_por_categoria_loja2)\n",
        "\n",
        "# Para exibir a categoria mais popular\n",
        "categoria_popular_loja2 = produtos_por_categoria_loja2.idxmax()\n",
        "print(f\"A categoria mais popular na Loja 2 é: {categoria_popular_loja2}\")"
      ]
    },
    {
      "cell_type": "code",
      "execution_count": 34,
      "metadata": {
        "id": "yZR6cOjXYSk1"
      },
      "outputs": [
        {
          "name": "stdout",
          "output_type": "stream",
          "text": [
            "Quantidade de produtos vendidos por categoria na Loja 3:\n",
            "Categoria do Produto\n",
            "brinquedos               315\n",
            "eletrodomesticos         278\n",
            "eletronicos              451\n",
            "esporte e lazer          277\n",
            "instrumentos musicais    177\n",
            "livros                   185\n",
            "moveis                   499\n",
            "utilidades domesticas    177\n",
            "Name: Produto, dtype: int64\n",
            "A categoria mais popular na Loja 3 é: moveis\n",
            "\n",
            "\n",
            "Quantidade de produtos vendidos por categoria na Loja 41:\n",
            "Categoria do Produto\n",
            "brinquedos               338\n",
            "eletrodomesticos         254\n",
            "eletronicos              451\n",
            "esporte e lazer          277\n",
            "instrumentos musicais    170\n",
            "livros                   187\n",
            "moveis                   480\n",
            "utilidades domesticas    201\n",
            "Name: Produto, dtype: int64\n",
            "A categoria mais popular na Loja 4 é: moveis\n"
          ]
        }
      ],
      "source": [
        "# Análise das vendas dos produtos por categorias da loja3\n",
        "produtos_por_categoria_loja3 = loja3.groupby('Categoria do Produto')['Produto'].count()\n",
        "\n",
        "print(\"Quantidade de produtos vendidos por categoria na Loja 3:\")\n",
        "print(produtos_por_categoria_loja3)\n",
        "\n",
        "# Para exibir a categoria mais popular\n",
        "categoria_popular_loja3 = produtos_por_categoria_loja3.idxmax()\n",
        "print(f\"A categoria mais popular na Loja 3 é: {categoria_popular_loja3}\")\n",
        "print(\"\\n\")\n",
        "\n",
        "\n",
        "# Análise das vendas dos produtos por categorias da loja4\n",
        "produtos_por_categoria_loja4 = loja4.groupby('Categoria do Produto')['Produto'].count()\n",
        "\n",
        "print(\"Quantidade de produtos vendidos por categoria na Loja 41:\")\n",
        "print(produtos_por_categoria_loja4)\n",
        "\n",
        "# Para exibir a categoria mais popular\n",
        "categoria_popular_loja4 = produtos_por_categoria_loja4.idxmax()\n",
        "print(f\"A categoria mais popular na Loja 4 é: {categoria_popular_loja4}\")"
      ]
    },
    {
      "cell_type": "markdown",
      "metadata": {
        "id": "Rq6tU_xSY3jk"
      },
      "source": [
        "# 3. Média de Avaliação das Lojas"
      ]
    },
    {
      "cell_type": "code",
      "execution_count": 31,
      "metadata": {
        "id": "bh3jjjJwY5MU"
      },
      "outputs": [
        {
          "name": "stdout",
          "output_type": "stream",
          "text": [
            "A média das avaliações dos clientes para a Loja 1 é: 3.98\n",
            "A média das avaliações dos clientes para a Loja 2 é: 4.04\n",
            "A média das avaliações dos clientes para a Loja 3 é: 4.05\n",
            "A média das avaliações dos clientes para a Loja 4 é: 4.0\n"
          ]
        }
      ],
      "source": [
        "# Loja 1: Calculando a média das avaliações\n",
        "media_avaliacao_loja1 = loja1['Avaliação da compra'].mean()\n",
        "print(f\"A média das avaliações dos clientes para a Loja 1 é: {round(media_avaliacao_loja1,2)}\")\n",
        "\n",
        "# Loja 2\n",
        "media_avaliacao_loja2 = loja2['Avaliação da compra'].mean()\n",
        "print(f\"A média das avaliações dos clientes para a Loja 2 é: {round(media_avaliacao_loja2,2)}\")\n",
        "\n",
        "# Loja 3\n",
        "media_avaliacao_loja3 = loja3['Avaliação da compra'].mean()\n",
        "print(f\"A média das avaliações dos clientes para a Loja 3 é: {round(media_avaliacao_loja3,2)}\")\n",
        "\n",
        "# Loja 4\n",
        "media_avaliacao_loja4 = loja4['Avaliação da compra'].mean()\n",
        "print(f\"A média das avaliações dos clientes para a Loja 4 é: {round(media_avaliacao_loja4,2)}\")"
      ]
    },
    {
      "cell_type": "code",
      "execution_count": null,
      "metadata": {
        "id": "I0KkjPoTY88F"
      },
      "outputs": [],
      "source": []
    },
    {
      "cell_type": "markdown",
      "metadata": {
        "id": "DmNp1KPBZCm-"
      },
      "source": [
        "# 4. Produtos Mais e Menos Vendidos"
      ]
    },
    {
      "cell_type": "code",
      "execution_count": 33,
      "metadata": {
        "id": "qoyjqijQZHfF"
      },
      "outputs": [
        {
          "name": "stdout",
          "output_type": "stream",
          "text": [
            "Produto mais vendido na Loja 1: moveis com 465 vendas.\n",
            "Produto menos vendido na Loja 1: utilidades domesticas com 171 vendas.\n",
            "\n",
            "\n",
            "Produto mais vendido na Loja 2: moveis com 442 vendas.\n",
            "Produto menos vendido na Loja 2: utilidades domesticas com 171 vendas.\n",
            "\n",
            "\n",
            "Produto mais vendido na Loja 3: moveis com 499 vendas.\n",
            "Produto menos vendido na Loja 3: utilidades domesticas com 177 vendas.\n",
            "\n",
            "\n",
            "Produto mais vendido na Loja 4: moveis com 480 vendas.\n",
            "Produto menos vendido na Loja 4: instrumentos musicais com 170 vendas.\n"
          ]
        }
      ],
      "source": [
        "# Loja 1: Agrupando por produto e contando o número de vendas\n",
        "vendas_por_produto_loja1 = loja1.groupby('Categoria do Produto')['Produto'].count().sort_values()\n",
        "\n",
        "# Produto mais vendido (último no ranking)\n",
        "produto_mais_vendido_loja1 = vendas_por_produto_loja1.idxmax()\n",
        "quantidade_mais_vendido_loja1 = vendas_por_produto_loja1.max()\n",
        "print(f\"Produto mais vendido na Loja 1: {produto_mais_vendido_loja1} com {quantidade_mais_vendido_loja1} vendas.\")\n",
        "\n",
        "# Produto menos vendido (primeiro no ranking)\n",
        "produto_menos_vendido_loja1 = vendas_por_produto_loja1.idxmin()\n",
        "quantidade_menos_vendido_loja1 = vendas_por_produto_loja1.min()\n",
        "print(f\"Produto menos vendido na Loja 1: {produto_menos_vendido_loja1} com {quantidade_menos_vendido_loja1} vendas.\")\n",
        "print(\"\\n\")\n",
        "\n",
        "# Loja 2: Agrupando por produto e contando o número de vendas\n",
        "vendas_por_produto_loja2 = loja2.groupby('Categoria do Produto')['Produto'].count().sort_values()\n",
        "\n",
        "# Produto mais vendido (último no ranking)\n",
        "produto_mais_vendido_loja2 = vendas_por_produto_loja2.idxmax()\n",
        "quantidade_mais_vendido_loja2 = vendas_por_produto_loja2.max()\n",
        "print(f\"Produto mais vendido na Loja 2: {produto_mais_vendido_loja1} com {quantidade_mais_vendido_loja2} vendas.\")\n",
        "\n",
        "# Produto menos vendido (primeiro no ranking)\n",
        "produto_menos_vendido_loja2 = vendas_por_produto_loja1.idxmin()\n",
        "quantidade_menos_vendido_loja2 = vendas_por_produto_loja1.min()\n",
        "print(f\"Produto menos vendido na Loja 2: {produto_menos_vendido_loja2} com {quantidade_menos_vendido_loja2} vendas.\")\n",
        "print(\"\\n\")\n",
        "\n",
        "# Loja 3: Agrupando por produto e contando o número de vendas\n",
        "vendas_por_produto_loja3 = loja3.groupby('Categoria do Produto')['Produto'].count().sort_values()\n",
        "\n",
        "# Produto mais vendido (último no ranking)\n",
        "produto_mais_vendido_loja3 = vendas_por_produto_loja3.idxmax()\n",
        "quantidade_mais_vendido_loja3 = vendas_por_produto_loja3.max()\n",
        "print(f\"Produto mais vendido na Loja 3: {produto_mais_vendido_loja3} com {quantidade_mais_vendido_loja3} vendas.\")\n",
        "\n",
        "# Produto menos vendido (primeiro no ranking)\n",
        "produto_menos_vendido_loja3 = vendas_por_produto_loja3.idxmin()\n",
        "quantidade_menos_vendido_loja3 = vendas_por_produto_loja3.min()\n",
        "print(f\"Produto menos vendido na Loja 3: {produto_menos_vendido_loja3} com {quantidade_menos_vendido_loja3} vendas.\")\n",
        "print(\"\\n\")\n",
        "\n",
        "# Loja 4: Agrupando por produto e contando o número de vendas\n",
        "vendas_por_produto_loja4 = loja4.groupby('Categoria do Produto')['Produto'].count().sort_values()\n",
        "\n",
        "# Produto mais vendido (último no ranking)\n",
        "produto_mais_vendido_loja4 = vendas_por_produto_loja4.idxmax()\n",
        "quantidade_mais_vendido_loja4 = vendas_por_produto_loja4.max()\n",
        "print(f\"Produto mais vendido na Loja 4: {produto_mais_vendido_loja4} com {quantidade_mais_vendido_loja4} vendas.\")\n",
        "\n",
        "# Produto menos vendido (primeiro no ranking)\n",
        "produto_menos_vendido_loja4 = vendas_por_produto_loja4.idxmin()\n",
        "quantidade_menos_vendido_loja4 = vendas_por_produto_loja4.min()\n",
        "print(f\"Produto menos vendido na Loja 4: {produto_menos_vendido_loja4} com {quantidade_menos_vendido_loja4} vendas.\")"
      ]
    },
    {
      "cell_type": "code",
      "execution_count": null,
      "metadata": {},
      "outputs": [],
      "source": []
    },
    {
      "cell_type": "markdown",
      "metadata": {
        "id": "Fl0cGi3bZKqU"
      },
      "source": [
        "# 5. Frete Médio por Loja\n"
      ]
    },
    {
      "cell_type": "code",
      "execution_count": 38,
      "metadata": {
        "id": "S2JeaCykZNy9"
      },
      "outputs": [
        {
          "name": "stdout",
          "output_type": "stream",
          "text": [
            "O custo médio de frete para a Loja 1 é: 34.69\n",
            "O custo médio de frete para a Loja 2 é: 33.62\n",
            "O custo médio de frete para a Loja 3 é: 33.07\n",
            "O custo médio de frete para a Loja 4 é: 31.28\n"
          ]
        }
      ],
      "source": [
        "# Loja 1: Calculando o custo médio de frete\n",
        "custo_medio_frete_loja1 = loja1['Frete'].mean()\n",
        "print(f\"O custo médio de frete para a Loja 1 é: {round(custo_medio_frete_loja1,2)}\")\n",
        "\n",
        "# Loja 2\n",
        "custo_medio_frete_loja2 = loja2['Frete'].mean()\n",
        "print(f\"O custo médio de frete para a Loja 2 é: {round(custo_medio_frete_loja2,2)}\")\n",
        "\n",
        "# Loja 3\n",
        "custo_medio_frete_loja3 = loja3['Frete'].mean()\n",
        "print(f\"O custo médio de frete para a Loja 3 é: {round(custo_medio_frete_loja3,2)}\")\n",
        "\n",
        "# Loja 4\n",
        "custo_medio_frete_loja4 = loja4['Frete'].mean()\n",
        "print(f\"O custo médio de frete para a Loja 4 é: {round(custo_medio_frete_loja4,2)}\")"
      ]
    },
    {
      "cell_type": "code",
      "execution_count": null,
      "metadata": {
        "id": "0tSdCie9ZQlt"
      },
      "outputs": [],
      "source": []
    }
  ],
  "metadata": {
    "colab": {
      "provenance": []
    },
    "kernelspec": {
      "display_name": "Python 3",
      "name": "python3"
    },
    "language_info": {
      "codemirror_mode": {
        "name": "ipython",
        "version": 3
      },
      "file_extension": ".py",
      "mimetype": "text/x-python",
      "name": "python",
      "nbconvert_exporter": "python",
      "pygments_lexer": "ipython3",
      "version": "3.13.3"
    }
  },
  "nbformat": 4,
  "nbformat_minor": 0
}
